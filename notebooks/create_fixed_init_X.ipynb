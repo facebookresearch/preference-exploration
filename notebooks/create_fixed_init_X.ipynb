{
 "cells": [
  {
   "cell_type": "code",
   "execution_count": 25,
   "metadata": {},
   "outputs": [
    {
     "name": "stdout",
     "output_type": "stream",
     "text": [
      "The autoreload extension is already loaded. To reload it, use:\n",
      "  %reload_ext autoreload\n"
     ]
    }
   ],
   "source": [
    "%load_ext autoreload\n",
    "%autoreload 2\n",
    "\n",
    "import os\n",
    "import sys\n",
    "module_path = os.path.abspath(os.path.join('..'))\n",
    "if module_path not in sys.path:\n",
    "    sys.path.append(module_path)\n",
    "\n",
    "from test_functions import problem_setup\n",
    "from sim_helpers import (\n",
    "    gen_initial_real_data,\n",
    "    fit_outcome_model,\n",
    "    gen_random_candidates,\n",
    "    fit_pref_model,\n",
    "    gen_rand_X,\n",
    "    gen_rand_points,\n",
    "    PosteriorMeanDummySampler,\n",
    "    gen_comps,\n",
    ")\n",
    "import pickle"
   ]
  },
  {
   "cell_type": "code",
   "execution_count": 26,
   "metadata": {},
   "outputs": [],
   "source": [
    "problem_strs_dict = {\n",
    "    'dtlz2_6d4d_restrictednegsixhump': '6d-4d DTLZ2 (4d outputs) \\n restricted negative six hump sum',\n",
    "    'dtlz2_9d8d_restrictednegsixhump': '9d-8d DTLZ2 (8d outputs) \\n restricted negative six hump sum',\n",
    "    'dtlz2_6d4d_rotatedrestrictednegsixhump': '6d-4d DTLZ2 (4d outputs) \\n rotated restricted neg. six hump sum',\n",
    "    'dtlz2_9d8d_rotatedrestrictednegsixhump': '9d-8d DTLZ2 (8d outputs) \\n rotated restricted neg. six hump sum',\n",
    "\n",
    "    'gpdraw_4d6d_kumaraswamy': '4d-6d GP Draw (6d outputs) \\n Kumaraswamy CDFs sum w/ interaction',\n",
    "    'gpdraw_4d6d_piecewiselinear': '4d-6d GP Draw (6d outputs) \\n piece-wise linear',\n",
    "\n",
    "    \"dtlz2_6d4d_piecewise\": \"6d-4d DTLZ2 (4d outputs) \\n quartic-linear piece-wise\",\n",
    "    \"dtlz2_6d4d_kumaraswamy\": \"6d-4d DTLZ2 (4d outputs) \\n Kumaraswamy CDFs sum w/ interaction\",\n",
    "    \"dtlz2_9d8d_kumaraswamy\": \"9d-8d DTLZ2 (8d outputs) \\n Kumaraswamy CDFs sum w/ interaction\",\n",
    "    \"dtlz2_9d8d_piecewise\": \"9d-8d DTLZ2 (8d outputs) \\n quartic-linear piece-wise\",\n",
    "    \n",
    "    'dtlz2_6d4d_negsixhump': '6d-4d DTLZ2 (4d outputs) \\n negative six hump sum',\n",
    "    'dtlz2_9d8d_negsixhump': '9d-8d DTLZ2 (8d outputs) \\n negative six hump sum',\n",
    "    'dtlz2_6d4d_quadraticsum': '6d-4d DTLZ2 (4d outputs) \\n quadratic functions sum',    \n",
    "    'dtlz2_9d8d_quadraticsum': '9d-8d DTLZ2 (8d outputs) \\n quadratic functions sum',   \n",
    "\n",
    "    'augdtlz2_4d8d_negl1dist': 'Augmented DTLZ2 (d=4, k=8) \\n Negative L1 distance',\n",
    "    'augdtlz2_8d8d_negl1dist': 'Augmented DTLZ2 (d=8, k=8) \\n Negative L1 distance',\n",
    "    'augdtlz2_8d12d_negl1dist': 'Augmented DTLZ2 (d=8, k=12) \\n Negative L1 distance',\n",
    "    'dtlz2_8d4d_negl1dist': 'DTLZ2 (d=8, k=4) \\n Negative L1 distance',\n",
    "    'dtlz2_8d4d_negl2dist': 'DTLZ2 (d=8, k=4) \\n Negative L2 distance',\n",
    "    'augdtlz2_8d16d_negl2dist': 'Augmented DTLZ2 (d=8, k=16) \\n Negative L2 distance',\n",
    "    'augdtlz2_8d16d_negl1dist': 'Augmented DTLZ2 (d=8, k=16) \\n Negative L1 distance',\n",
    "\n",
    "    \"dtlz2_8d4d_idealnegl1dist\": 'DTLZ2 (d=8, k=4) \\n L1 distance from desideratum',\n",
    "    \"augdtlz2_8d16d_idealnegl1dist\": 'Augmented DTLZ2 (d=8, k=16) \\n L1 distance from desideratum',\n",
    "    \"dtlz2_8d4d_idealnegl2dist\": 'DTLZ2 (d=8, k=4) \\n L2 distance from desideratum',\n",
    "    \"augdtlz2_8d16d_idealnegl2dist\": 'Augmented DTLZ2 (d=8, k=16) \\n L2 distance from desideratum',\n",
    "    \n",
    "    \"dtlz2_8d4d_idealnegl1dist\": 'DTLZ2 (d=8, k=4) \\n L1 distance from desideratum',\n",
    "    \"augdtlz2_8d16d_idealnegl1dist\": 'Augmented DTLZ2 (d=8, k=16) \\n L1 distance from desideratum',\n",
    "    \"dtlz2_8d4d_idealnegl2dist\": 'DTLZ2 (d=8, k=4) \\n L2 distance from desideratum',\n",
    "    \"augdtlz2_8d16d_idealnegl2dist\": 'Augmented DTLZ2 (d=8, k=16) \\n L2 distance from desideratum',\n",
    "\n",
    "    \"carcabdesign_7d9d_piecewiselinear\": \"Car cab design (d=7, k=9) \\n piece-wise linear\", \n",
    "    \"vehiclesafety_5d3d_kumaraswamyproduct\": \"Vehicle safety (d=5, k=3) \\n product of Kumaraswamy CDFs\",\n",
    "    'osy_6d8d_piecewiselinear': 'OSY (d=6, k=8) \\n piece-wise linear',\n",
    "    'osy_6d8d_kumaraswamy': 'OSY (d=6, k=8) \\n Kumaraswamy CDFs sum w/ interaction',\n",
    "    \"carcabdesign_7d9d_linear\": \"Car cab design (d=7, k=9) \\n linear\",\n",
    "    \"vehiclesafety_5d3d_linear\": \"Vehicle safety (d=5, k=3) \\n linear\",\n",
    "}"
   ]
  },
  {
   "cell_type": "code",
   "execution_count": 29,
   "metadata": {},
   "outputs": [
    {
     "name": "stdout",
     "output_type": "stream",
     "text": [
      "dtlz2_6d4d_restrictednegsixhump, noisy: False, noise_std: 0\n",
      "dtlz2_9d8d_restrictednegsixhump, noisy: False, noise_std: 0\n",
      "dtlz2_6d4d_rotatedrestrictednegsixhump, noisy: False, noise_std: 0\n",
      "dtlz2_9d8d_rotatedrestrictednegsixhump, noisy: False, noise_std: 0\n",
      "gpdraw_4d6d_kumaraswamy, noisy: False, noise_std: 0\n",
      "gpdraw_4d6d_piecewiselinear, noisy: False, noise_std: 0\n",
      "dtlz2_6d4d_piecewise, noisy: False, noise_std: 0\n",
      "dtlz2_6d4d_kumaraswamy, noisy: False, noise_std: 0\n",
      "dtlz2_9d8d_kumaraswamy, noisy: False, noise_std: 0\n",
      "dtlz2_9d8d_piecewise, noisy: False, noise_std: 0\n",
      "dtlz2_6d4d_negsixhump, noisy: False, noise_std: 0\n",
      "dtlz2_9d8d_negsixhump, noisy: False, noise_std: 0\n",
      "dtlz2_6d4d_quadraticsum, noisy: False, noise_std: 0\n",
      "dtlz2_9d8d_quadraticsum, noisy: False, noise_std: 0\n",
      "augdtlz2_4d8d_negl1dist, noisy: False, noise_std: 0\n",
      "augdtlz2_8d8d_negl1dist, noisy: False, noise_std: 0\n",
      "augdtlz2_8d12d_negl1dist, noisy: False, noise_std: 0\n",
      "dtlz2_8d4d_negl1dist, noisy: False, noise_std: 0\n",
      "dtlz2_8d4d_negl2dist, noisy: False, noise_std: 0\n",
      "augdtlz2_8d16d_negl2dist, noisy: False, noise_std: 0\n",
      "augdtlz2_8d16d_negl1dist, noisy: False, noise_std: 0\n",
      "dtlz2_8d4d_idealnegl1dist, noisy: False, noise_std: 0\n",
      "augdtlz2_8d16d_idealnegl1dist, noisy: False, noise_std: 0\n",
      "dtlz2_8d4d_idealnegl2dist, noisy: False, noise_std: 0\n",
      "augdtlz2_8d16d_idealnegl2dist, noisy: False, noise_std: 0\n",
      "carcabdesign_7d9d_piecewiselinear, noisy: False, noise_std: 0\n",
      "vehiclesafety_5d3d_kumaraswamyproduct, noisy: False, noise_std: 0\n",
      "osy_6d8d_piecewiselinear, noisy: False, noise_std: 0\n",
      "osy_6d8d_kumaraswamy, noisy: False, noise_std: 0\n",
      "carcabdesign_7d9d_linear, noisy: False, noise_std: 0\n",
      "vehiclesafety_5d3d_linear, noisy: False, noise_std: 0\n"
     ]
    }
   ],
   "source": [
    "n_init_X_batch = 256\n",
    "fixed_init_X_dict = {}\n",
    "\n",
    "for problem_str in problem_strs_dict.keys():\n",
    "    problem_prefix = \"_\".join(problem_str.split(\"_\")[:2])\n",
    "    (\n",
    "        X_dim,\n",
    "        Y_dim,\n",
    "        problem,\n",
    "        util_type,\n",
    "        get_util,\n",
    "        Y_bounds,\n",
    "        probit_noise,\n",
    "    ) = problem_setup(problem_str, noisy=False, dtype=torch.float64)\n",
    "    \n",
    "    if X_dim <= 5:\n",
    "        init_n_outcome = 16\n",
    "    else:\n",
    "        init_n_outcome = 32\n",
    "        \n",
    "    if problem_prefix not in fixed_init_X_dict:\n",
    "        fixed_init_X_dict[problem_prefix] = []\n",
    "        for i in range(n_init_X_batch):\n",
    "            fixed_init_X_dict[problem_prefix].append(gen_rand_X(init_n_outcome, problem))"
   ]
  },
  {
   "cell_type": "code",
   "execution_count": 30,
   "metadata": {},
   "outputs": [],
   "source": [
    "# pickle.dump(fixed_init_X_dict, open(\"../fixed_init_X_dict.pickle\", \"wb\"))"
   ]
  },
  {
   "cell_type": "code",
   "execution_count": 33,
   "metadata": {},
   "outputs": [
    {
     "name": "stdout",
     "output_type": "stream",
     "text": [
      "./run_multi_sim.sh -g3 -b1 -e1 -cconstant\n",
      "./run_multi_sim.sh -g4 -b2 -e2 -cconstant\n",
      "./run_multi_sim.sh -g5 -b3 -e3 -cconstant\n",
      "./run_multi_sim.sh -g6 -b4 -e4 -cconstant\n",
      "./run_multi_sim.sh -g7 -b5 -e5 -cconstant\n",
      "./run_multi_sim.sh -g3 -b6 -e6 -cconstant\n",
      "./run_multi_sim.sh -g4 -b7 -e7 -cconstant\n",
      "./run_multi_sim.sh -g5 -b8 -e8 -cconstant\n",
      "./run_multi_sim.sh -g6 -b9 -e9 -cconstant\n",
      "./run_multi_sim.sh -g7 -b10 -e10 -cconstant\n"
     ]
    }
   ],
   "source": [
    "for i in range(10):\n",
    "    print(f\"./run_multi_sim.sh -g{3+i%5} -b{i+1} -e{i+1} -cconstant\")"
   ]
  }
 ],
 "metadata": {
  "kernelspec": {
   "display_name": "pref",
   "language": "python",
   "name": "pref"
  },
  "language_info": {
   "codemirror_mode": {
    "name": "ipython",
    "version": 3
   },
   "file_extension": ".py",
   "mimetype": "text/x-python",
   "name": "python",
   "nbconvert_exporter": "python",
   "pygments_lexer": "ipython3",
   "version": "3.7.4"
  }
 },
 "nbformat": 4,
 "nbformat_minor": 4
}
